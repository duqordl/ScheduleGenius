{
  "nbformat": 4,
  "nbformat_minor": 0,
  "metadata": {
    "colab": {
      "provenance": [],
      "authorship_tag": "ABX9TyPh0RpL2KvztYrCbEsLdm5e",
      "include_colab_link": true
    },
    "kernelspec": {
      "name": "python3",
      "display_name": "Python 3"
    },
    "language_info": {
      "name": "python"
    }
  },
  "cells": [
    {
      "cell_type": "markdown",
      "metadata": {
        "id": "view-in-github",
        "colab_type": "text"
      },
      "source": [
        "<a href=\"https://colab.research.google.com/github/duqordl/ScheduleGenius/blob/main/%EC%8B%A4%EC%8A%B57_Setuptools_%EC%84%A4%EC%B9%98.ipynb\" target=\"_parent\"><img src=\"https://colab.research.google.com/assets/colab-badge.svg\" alt=\"Open In Colab\"/></a>"
      ]
    },
    {
      "cell_type": "code",
      "execution_count": 19,
      "metadata": {
        "colab": {
          "base_uri": "https://localhost:8080/"
        },
        "id": "4ydzVt2U0b2S",
        "outputId": "c4eb4d77-5d95-49f1-c1fa-58d6dcda8e64"
      },
      "outputs": [
        {
          "output_type": "stream",
          "name": "stdout",
          "text": [
            "Requirement already satisfied: PlanMaster in /usr/local/lib/python3.10/dist-packages (0.0.1)\n"
          ]
        }
      ],
      "source": [
        "!pip install PlanMaster"
      ]
    },
    {
      "cell_type": "code",
      "source": [
        "from PlanMaster import PlanMaster\n",
        "\n",
        "if __name__ == \"__main__\":\n",
        "    file_path = 'schedule.txt'\n",
        "\n",
        "    # 일정 추가\n",
        "    PlanMaster.add_schedule(file_path, '2024-04-22: 과제 1')\n",
        "    PlanMaster.add_schedule(file_path, '2024-04-22: 과제 2')\n",
        "    PlanMaster.add_schedule(file_path, '2024-04-23: 과제 3')\n",
        "    PlanMaster.add_schedule(file_path, '2024-04-23: 과제 3')\n",
        "\n",
        "    # 날짜별로 정렬된 스케줄 출력\n",
        "    PlanMaster.print_sorted_schedule(file_path)"
      ],
      "metadata": {
        "colab": {
          "base_uri": "https://localhost:8080/"
        },
        "id": "FWST8gJCla_b",
        "outputId": "a9afbebb-cd05-490e-e6ec-4bb2809cb65c"
      },
      "execution_count": 20,
      "outputs": [
        {
          "output_type": "stream",
          "name": "stdout",
          "text": [
            "일정 '2024-04-23: 과제 3'은 이미 존재합니다.\n",
            "2024-04-22:\n",
            "\t과제 1\n",
            "\t과제 2\n",
            "2024-04-23:\n",
            "\t과제 3\n"
          ]
        }
      ]
    },
    {
      "cell_type": "code",
      "source": [],
      "metadata": {
        "id": "xWCf-x1AqCz1"
      },
      "execution_count": null,
      "outputs": []
    }
  ]
}